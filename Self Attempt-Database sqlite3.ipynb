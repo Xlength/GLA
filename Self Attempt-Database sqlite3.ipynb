{
 "cells": [
  {
   "metadata": {},
   "cell_type": "markdown",
   "source": "<h1 style=\"font-size: px;\">Self Attempt-Database sqlite3 </h1>",
   "id": "950720fa1b551aa"
  },
  {
   "metadata": {
    "ExecuteTime": {
     "end_time": "2024-09-23T02:05:52.964452Z",
     "start_time": "2024-09-23T02:05:52.961296Z"
    }
   },
   "cell_type": "code",
   "source": [
    "# I should remember all the things I have done in the past.\n",
    "# 1.语法：操作均大写\n",
    "# 2.操作1+表格+操作2+行或列信息+WHERE+筛选条件+ORDER BY+行或列信息+ASC或DESC\n",
    "# 3.先名字后数据类型：数据类型有 TEXT,INTEGER,REAL,BLOB,NULL\n",
    "# 4.SELECT要放在FROM\n",
    "# 5.AND和OR是逻辑运算符\n",
    "# 6.字符串要用引号\n",
    "# 7.排序：ASC升序，DESC降序\n",
    "# 8.CREATE中AUTOINCREMENT自增长\n",
    "# 9.三引号用来写长的分段\n",
    "# 10.分号意味着语句结束，最好保持写的习惯\n",
    "# 11.INSERT后面一定要跟INTO，但是INTO有可能跟SELECT\n",
    "# 12.UPDATE后面一定要跟SET，但是SET有可能跟SELECT\n",
    "# 13.UPDATE table_name: 指定你想要更新的表名。\n",
    "#    SET column1 = value1, column2 = value2: 指定你要更新的列及其新值。\n",
    "#    WHERE condition: 指定要更新哪些行。注意，最好加上 WHERE 子句，以避免更新整个表的所有行。"
   ],
   "id": "ad20df18a5b07a06",
   "outputs": [],
   "execution_count": 1
  },
  {
   "metadata": {
    "ExecuteTime": {
     "end_time": "2024-09-23T17:30:22.957808Z",
     "start_time": "2024-09-23T17:30:22.954858Z"
    }
   },
   "cell_type": "code",
   "source": "import sqlite3 #import",
   "id": "643526ba45bde255",
   "outputs": [],
   "execution_count": 2
  },
  {
   "metadata": {
    "ExecuteTime": {
     "end_time": "2024-09-23T17:31:06.493078Z",
     "start_time": "2024-09-23T17:31:06.489892Z"
    }
   },
   "cell_type": "code",
   "source": "conn=sqlite3.connect(\"xiao.db\") #connect",
   "id": "e634e3f3b8004124",
   "outputs": [],
   "execution_count": 3
  },
  {
   "metadata": {
    "ExecuteTime": {
     "end_time": "2024-09-23T17:31:43.064105Z",
     "start_time": "2024-09-23T17:31:43.061319Z"
    }
   },
   "cell_type": "code",
   "source": "cursor=conn.cursor() #create a cursor",
   "id": "2e31220311155c6f",
   "outputs": [],
   "execution_count": 4
  },
  {
   "metadata": {
    "ExecuteTime": {
     "end_time": "2024-09-23T17:32:36.690897Z",
     "start_time": "2024-09-23T17:32:36.680332Z"
    }
   },
   "cell_type": "code",
   "source": [
    "cursor.execute('''\n",
    "CREATE TABLE IF NOT EXISTS students (\n",
    "    student_id INTEGER PRIMARY KEY AUTOINCREMENT,\n",
    "    student_name TEXT NOT NULL,\n",
    "    student_age INTEGER NOT NULL,\n",
    "    major TEXT\n",
    ");\n",
    "''') #create a table"
   ],
   "id": "761f95577591b289",
   "outputs": [
    {
     "data": {
      "text/plain": [
       "<sqlite3.Cursor at 0x25cad3d11c0>"
      ]
     },
     "execution_count": 5,
     "metadata": {},
     "output_type": "execute_result"
    }
   ],
   "execution_count": 5
  },
  {
   "metadata": {
    "ExecuteTime": {
     "end_time": "2024-09-23T17:37:45.286673Z",
     "start_time": "2024-09-23T17:37:45.279815Z"
    }
   },
   "cell_type": "code",
   "source": [
    "cursor.execute('''\n",
    "INSERT INTO students (student_name, student_age, major)\n",
    "VALUES ('John Doe', 21, 'Computer Science');\n",
    "''')\n",
    "conn.commit()\n"
   ],
   "id": "83bdff741f3c4822",
   "outputs": [],
   "execution_count": 7
  },
  {
   "metadata": {
    "ExecuteTime": {
     "end_time": "2024-09-23T17:38:49.405533Z",
     "start_time": "2024-09-23T17:38:49.398458Z"
    }
   },
   "cell_type": "code",
   "source": [
    "cursor.execute('''\n",
    "INSERT INTO students (student_name, student_age, major)\n",
    "VALUES ('Alice', 23, 'Mathematics');\n",
    "''')\n",
    "conn.commit()"
   ],
   "id": "fd76cf4770f7edf1",
   "outputs": [],
   "execution_count": 8
  },
  {
   "metadata": {
    "ExecuteTime": {
     "end_time": "2024-09-23T17:41:29.688979Z",
     "start_time": "2024-09-23T17:41:29.681677Z"
    }
   },
   "cell_type": "code",
   "source": [
    "cursor.execute('''\n",
    "INSERT INTO students(student_name, student_age, major)\n",
    "VALUES \n",
    "    ('Bob', 20, 'Computer Science'),\n",
    "    ('Charlie', 22, 'Physics');\n",
    "''')\n",
    "conn.commit()\n"
   ],
   "id": "cf6a642ec2eddb25",
   "outputs": [],
   "execution_count": 9
  },
  {
   "metadata": {
    "ExecuteTime": {
     "end_time": "2024-09-23T17:44:34.468120Z",
     "start_time": "2024-09-23T17:44:34.461120Z"
    }
   },
   "cell_type": "code",
   "source": [
    "cursor.execute('''\n",
    "UPDATE students\n",
    "SET student_age = 24\n",
    "WHERE student_name = 'Alice';\n",
    "''')\n",
    "conn.commit()"
   ],
   "id": "d4155a28e99caec2",
   "outputs": [],
   "execution_count": 10
  },
  {
   "metadata": {
    "ExecuteTime": {
     "end_time": "2024-09-23T17:52:28.166047Z",
     "start_time": "2024-09-23T17:52:28.157559Z"
    }
   },
   "cell_type": "code",
   "source": [
    "cursor.execute('''\n",
    "DELETE FROM students\n",
    "WHERE student_name = 'Bob';\n",
    "''')\n",
    "conn.commit()\n"
   ],
   "id": "325b60abbe12fb9a",
   "outputs": [],
   "execution_count": 11
  },
  {
   "metadata": {
    "ExecuteTime": {
     "end_time": "2024-09-23T17:54:28.759565Z",
     "start_time": "2024-09-23T17:54:28.755772Z"
    }
   },
   "cell_type": "code",
   "source": [
    "cursor.execute('''\n",
    "SELECT * FROM students;\n",
    "''')\n",
    "#注意！！！这里选定的是代理人CURSOR，所以要加fetch语句！！\n",
    "# 获取所有结果\n",
    "results = cursor.fetchall()\n",
    "\n",
    "# 打印结果\n",
    "for row in results:\n",
    "    print(row)"
   ],
   "id": "2388a8db2a523ab9",
   "outputs": [
    {
     "name": "stdout",
     "output_type": "stream",
     "text": [
      "(1, 'John Doe', 21, 'Computer Science')\n",
      "(2, 'John Doe', 21, 'Computer Science')\n",
      "(3, 'Alice', 24, 'Mathematics')\n",
      "(5, 'Charlie', 22, 'Physics')\n"
     ]
    }
   ],
   "execution_count": 14
  },
  {
   "metadata": {},
   "cell_type": "code",
   "outputs": [],
   "execution_count": null,
   "source": "",
   "id": "bc4c6419b4705daa"
  }
 ],
 "metadata": {
  "kernelspec": {
   "display_name": "Python 3",
   "language": "python",
   "name": "python3"
  },
  "language_info": {
   "codemirror_mode": {
    "name": "ipython",
    "version": 2
   },
   "file_extension": ".py",
   "mimetype": "text/x-python",
   "name": "python",
   "nbconvert_exporter": "python",
   "pygments_lexer": "ipython2",
   "version": "2.7.6"
  }
 },
 "nbformat": 4,
 "nbformat_minor": 5
}
