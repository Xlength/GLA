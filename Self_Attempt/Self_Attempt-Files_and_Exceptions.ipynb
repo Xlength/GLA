{
 "cells": [
  {
   "cell_type": "markdown",
   "metadata": {},
   "source": [
    "<h1 font-size=40px> Self_Attempt-Files and Exceptions</h1>"
   ]
  },
  {
   "cell_type": "markdown",
   "metadata": {},
   "source": [
    "<h1 font-size=30px> 1.File </h1>"
   ]
  },
  {
   "cell_type": "code",
   "execution_count": null,
   "metadata": {},
   "outputs": [],
   "source": [
    "'''  \n",
    "Files are classified as text file or binary file\n",
    "1.Text files: Can only contains characters using an encoding system such as ASCII and UTF-8. \n",
    "can be viewed and modified using any text editor. \n",
    "2.Binary files: sequence of bits. Can contain any type of data, not just characters. E.g. images, sound, videos.\n",
    "\n",
    "'''\n",
    "'''\n",
    "1.First open a file\n",
    "The open function takes two arguments: \n",
    "The (string) that contains the name of the file and the (string that indicates the access mode) for the file.\n",
    "\n",
    "2.Access modes:\n",
    "Access modes: \n",
    "1)read (denoted by “r”) ->inf=open(\"input.txt\",\"r\")\n",
    "    Opens for reading only and will not allow you to make any changes. \n",
    "2)write (denoted by “w”) -> inf=open(\"input.txt\",\"w\")\n",
    "    Creates a new file and writes to that file. If the file already exist, \n",
    "    a new file will be created, overwriting the existing file\n",
    "\n",
    "3)append (denoted by “a”) ->inf=open(\"input.txt\",\"a\")\n",
    "    Opens for writing, appending to the end of the file\n",
    "\n",
    "4)xor (denoted by “x”) ->inf=open(\"input.txt\",\"x\") #在考试中最好不要把他当成access mode！\n",
    "    Creates a new file and writes to that file. If the file already exits,\n",
    "    the programme will crash rather than overwriting it.\n",
    "\n",
    "\n",
    "3.Read and Readline\n",
    "1)Readline method:\n",
    "reads one line from the file and returns it as a string,\n",
    "much like the input function reads a line of text typed on the keyboard.\n",
    "\n",
    "Readline returns an empty string when there is no further data to read from the file.\n",
    "\n",
    "2)Read method:\n",
    "The read method will return the entire content of the file as one string \n",
    "– further processing is required to break the string into smaller pieces\n",
    "\n",
    "\n",
    "'''"
   ]
  },
  {
   "cell_type": "code",
   "execution_count": null,
   "metadata": {},
   "outputs": [],
   "source": [
    "#1.When a file is opened in write mode, a new empty file is created\n",
    "#  So if that file already existed then it will be deleted and all data in it will be lost.\n",
    "#2.Open an existing file in append mode to write data at the end of that file.\n",
    "#  If the file opened in append mode does not exist, then a new file will be created.\n",
    "#3.The write method can be used to write data opened either to write mode or append mode.\n",
    "#4.It takes one argument, a string. Convert other value types to string using the str function.\n",
    "#5.Unlike print method, the write method does not automatically move to the next line.  \\n denotes end of line marker.\n"
   ]
  },
  {
   "cell_type": "code",
   "execution_count": 1,
   "metadata": {},
   "outputs": [],
   "source": [
    "fname=input(\"Enter file name: \")\n",
    "outf=open(fname,\"w\")\n",
    "\n",
    "limit=int(input(\"Enter the number of the maximum\"))\n",
    "\n",
    "for num in range (1,limit+1):\n",
    "    outf.write(str(num)+' ')\n",
    "\n",
    "outf.close()    "
   ]
  },
  {
   "cell_type": "code",
   "execution_count": 2,
   "metadata": {},
   "outputs": [],
   "source": [
    "#.CSV (Comma Separated Values) is associated with importing and exporting spreadsheets and databases.\n",
    "# Allows greater control over data\n",
    "# When opening a .csv file, you must specify how that file will be used. The options are:\n"
   ]
  },
  {
   "cell_type": "code",
   "execution_count": 3,
   "metadata": {},
   "outputs": [],
   "source": [
    "import csv\n",
    "\n",
    "file=open(\"Stars.csv\",\"w\")\n",
    "\n",
    "newRecord=\"Brian,73,Taurus\\n\"\n",
    "file.write(str(newRecord))\n",
    "file.close()"
   ]
  },
  {
   "cell_type": "code",
   "execution_count": 4,
   "metadata": {},
   "outputs": [],
   "source": [
    "name=input(\"Enter name: \")\n",
    "age =input(\"Enter age:\")\n",
    "star=input(\"Enter star sign:\")\n",
    "\n",
    "newRecord=name+\",\"+age+\",\"+star+\"\\n\"\n",
    "file=open(\"Stars.csv\",\"a\")\n",
    "file.write(str(newRecord))\n",
    "file.close()\n"
   ]
  },
  {
   "cell_type": "code",
   "execution_count": 11,
   "metadata": {},
   "outputs": [
    {
     "name": "stdout",
     "output_type": "stream",
     "text": [
      "Brian,73,Taurus\n",
      "\n",
      "zhixing Zhang,24,Virgin\n",
      "\n",
      "zhixing Zhang,24,Virgin\n",
      "\n"
     ]
    }
   ],
   "source": [
    "file=open(\"Stars.csv\",\"r\")\n",
    "\n",
    "for row in file:\n",
    "    print(row)\n",
    "search=input(\"Enter data to search: \")\n",
    "\n",
    "#在搜索前，必须把文件指针放在文件的开头！！！\n",
    "file = open(\"Stars.csv\",\"r\")\n",
    "#reader=csv.reader(file)\n",
    "for row in file:\n",
    "    if search in str(row):\n",
    "        print(row)"
   ]
  },
  {
   "cell_type": "code",
   "execution_count": 13,
   "metadata": {},
   "outputs": [
    {
     "name": "stdout",
     "output_type": "stream",
     "text": [
      "Brian,73,Taurus\n",
      "zhixing Zhang,24,Virgin\n",
      "\n",
      "aye\n"
     ]
    }
   ],
   "source": [
    "file = open(\"Stars.csv\",\"r\")\n",
    "print(file.read())\n",
    "file = open(\"Stars.csv\",\"r\")\n",
    "if \"zhixing\" in file.read():\n",
    "    print(\"aye\")"
   ]
  },
  {
   "cell_type": "markdown",
   "metadata": {},
   "source": [
    "<h1 font-size=30px> 2.Command Line Arguments</h1>"
   ]
  },
  {
   "cell_type": "code",
   "execution_count": 14,
   "metadata": {},
   "outputs": [
    {
     "name": "stdout",
     "output_type": "stream",
     "text": [
      "The programme has  2 command line argument(s).\n",
      "The name of the .py file is c:\\Users\\Zhang ZhiXing\\PycharmProjects\\AIpython\\.venv\\Lib\\site-packages\\ipykernel_launcher.py\n",
      "The remaining arguments are: \n",
      "  --f=\"c:\\Users\\Zhang ZhiXing\\AppData\\Roaming\\jupyter\\runtime\\kernel-v35616dada208012fd9b80f8c4fb3ef93f07459696.json\"\n"
     ]
    }
   ],
   "source": [
    "# The system module must be imported to access the command line arguments  \n",
    "import sys  \n",
    "\n",
    "# Display the number of command line arguments (including the .py file)  \n",
    "print(\"The programme has \", len(sys.argv), \"command line argument(s).\")  \n",
    "\n",
    "# Display the name of the .py file  \n",
    "print(\"The name of the .py file is\", sys.argv[0])  \n",
    "\n",
    "# Determine whether or not there are additional arguments to display  \n",
    "if len(sys.argv) > 1:  \n",
    "    # Display all of the command line arguments beyond the name of the .py file  \n",
    "    print(\"The remaining arguments are: \")  \n",
    "    for i in range(1, len(sys.argv)):  \n",
    "        print(\" \", sys.argv[i])  \n",
    "else:  \n",
    "    print(\"There are no additional arguments\")"
   ]
  },
  {
   "cell_type": "code",
   "execution_count": null,
   "metadata": {},
   "outputs": [],
   "source": [
    "# Import the system module  \n",
    "import sys  \n",
    "\n",
    "# Ensure that the programme was started with on command line argument beyond the name of the .py file  \n",
    "if len(sys.argv) != 2:  \n",
    "    print(\"A file name must be provided as a command line argument.\")  \n",
    "    quit()  \n",
    "\n",
    "# Open the file listed immediately after the .py file on the command line  \n",
    "inf = open(sys.argv[1], \"r\")  \n",
    "\n",
    "# Initialise the total  \n",
    "total = 0  \n",
    "\n",
    "# Total the values in the file  \n",
    "line = inf.readline()  \n",
    "while line != \"\":  \n",
    "    total = total + float(line)  \n",
    "    line = inf.readline()  \n",
    "\n",
    "# Close the file  \n",
    "inf.close()  \n",
    "\n",
    "# Display the result  \n",
    "print(\"The total of the values in\", sys.argv[1], \"is\", total)"
   ]
  },
  {
   "cell_type": "markdown",
   "metadata": {},
   "source": [
    "<h1 font-size=30px> 3.Exceptions </h1>"
   ]
  },
  {
   "cell_type": "code",
   "execution_count": null,
   "metadata": {},
   "outputs": [],
   "source": [
    "'''\n",
    "1.Exceptions are those errors that the user can make. \n",
    "For example, a user can supply a non-numeric value when a numeric value was expected.\n",
    "\n",
    "2.By default a Python programme will crash when an exception occurs.\n",
    "So the programmer must indicate where an exception might occur in order to catch it.\n",
    "\n",
    "3.The programmer must also indicate what code to run to handle the exception when it happens.\n",
    "Try and except are used.\n",
    "\n",
    "4.The code that might cause an exception that we want to catch is place inside the try block\n",
    "The try block is immediately followed by one or more except blocks.\n",
    "\n",
    "5.When an exception occurs inside a try block, \n",
    "execution immediately jump to the appropriate except block without running any remaining statements in the try block.\n",
    "An except block that does not specify a particular exception will catch any type of exception \n",
    "(that is not caught by another except block associated to the same try block.\n",
    "The except block only execute when an exception occurs.\n",
    "\n",
    "'''"
   ]
  },
  {
   "cell_type": "code",
   "execution_count": 16,
   "metadata": {},
   "outputs": [
    {
     "name": "stdout",
     "output_type": "stream",
     "text": [
      "1 2 3 4 5 6 7 8 9 10 11 12 13 14 15 16 17 18 19 20 21 22 23 24 25 26 27 28 29 30 31 32 33 34 35 36 37 38 39 40 41 42 43 44 45 46 47 48 49 50 51 52 53 54 55 56 57 58 59 60 61 62 63 64 65 66 67 68 69 70 71 72 73 74 75 76 77 78 79 80 81 82 83 84 85 86 87 88 89 90 91 92 93 94 95 96 97 98 99 100 \n"
     ]
    }
   ],
   "source": [
    "# Read the file name from the user  \n",
    "fname = input(\"Enter the file name: \")  \n",
    "\n",
    "# Attempt to open the file  \n",
    "try:  \n",
    "    inf = open(fname, \"r\")  \n",
    "    file=inf.read()\n",
    "    print(file)\n",
    "except FileNotFoundError:  \n",
    "    # Display an error message and quit if the file was not opened successfully  \n",
    "    print(\"%s could not be opened, Quitting...\" % fname)  \n",
    "    quit()"
   ]
  },
  {
   "cell_type": "code",
   "execution_count": null,
   "metadata": {},
   "outputs": [],
   "source": [
    "# Read the file name from the user  \n",
    "fname = input(\"Enter the file name: \")  \n",
    "\n",
    "file_opened = False  \n",
    "while file_opened == False:  \n",
    "    # Attempt to open file  \n",
    "    try:  \n",
    "        inf = open(fname, \"r\")  \n",
    "        file_opened = True  \n",
    "    except FileNotFoundError:  \n",
    "        # Display an error message and quit if the file was not opened successfully  \n",
    "        print(\"%s could not be opened, Quitting...\" % fname)  \n",
    "        fname = input(\"Enter file name: \")"
   ]
  },
  {
   "cell_type": "code",
   "execution_count": 2,
   "metadata": {},
   "outputs": [
    {
     "name": "stdout",
     "output_type": "stream",
     "text": [
      "(4, 'Simon', 'Howels', '0141647 1397')\n",
      "(5, 'Karen', 'Philips', '0145889 2354')\n",
      "(6, 'Darren', 'Johnstone', '0203456 7987')\n",
      "(7, 'Anne', 'Jones', '0203456 7987')\n"
     ]
    }
   ],
   "source": [
    "import sqlite3\n",
    "\n",
    "# Connect to the database called PhoneBook or create one if there is none\n",
    "with sqlite3.connect(\"PhoneBook.db\") as db:\n",
    "    cursor = db.cursor()\n",
    "\n",
    "    # Create a table called Names with four fields\n",
    "    cursor.execute(\"\"\"\n",
    "    CREATE TABLE IF NOT EXISTS Names(\n",
    "    id integer PRIMARY KEY,\n",
    "    firstname text,\n",
    "    surname text,\n",
    "    phonenumber text)\n",
    "    \"\"\")\n",
    "\n",
    "    # Insert data into the table\n",
    "    cursor.execute(\"\"\"\n",
    "    INSERT OR IGNORE INTO Names(id, firstname, surname, phonenumber)\n",
    "    VALUES (\"4\", \"Simon\", \"Howels\", \"0141647 1397\")\n",
    "    \"\"\")\n",
    "    db.commit()  # Saves the changes\n",
    "\n",
    "    # Insert data into the table Names\n",
    "    cursor.execute(\"\"\"\n",
    "    INSERT OR IGNORE INTO Names(id, firstname, surname, phonenumber)\n",
    "    VALUES (\"5\", \"Karen\", \"Philips\", \"0145889 2354\")\n",
    "    \"\"\")\n",
    "    db.commit()  # Saves the changes\n",
    "\n",
    "    # Insert data into the table Names\n",
    "    cursor.execute(\"\"\"\n",
    "    INSERT OR IGNORE INTO Names(id, firstname, surname, phonenumber)\n",
    "    VALUES (\"6\", \"Darren\", \"Johnstone\", \"0203456 7987\")\n",
    "    \"\"\")\n",
    "    db.commit()  # Saves the changes\n",
    "\n",
    "    # Insert data into the table Names\n",
    "    cursor.execute(\"\"\"\n",
    "    INSERT OR IGNORE INTO Names(id, firstname, surname, phonenumber)\n",
    "    VALUES (\"7\", \"Anne\", \"Jones\", \"0203456 7987\")\n",
    "    \"\"\")\n",
    "    db.commit()  # Saves the changes\n",
    "\n",
    "    # Query the database and fetch all records\n",
    "    cursor.execute(\"SELECT * FROM names\")\n",
    "    for x in cursor.fetchall():\n",
    "        print(x)\n",
    "\n",
    "db.close()  # Close the database\n"
   ]
  },
  {
   "cell_type": "code",
   "execution_count": null,
   "metadata": {},
   "outputs": [],
   "source": []
  }
 ],
 "metadata": {
  "kernelspec": {
   "display_name": "AIpython",
   "language": "python",
   "name": "python3"
  },
  "language_info": {
   "codemirror_mode": {
    "name": "ipython",
    "version": 3
   },
   "file_extension": ".py",
   "mimetype": "text/x-python",
   "name": "python",
   "nbconvert_exporter": "python",
   "pygments_lexer": "ipython3",
   "version": "3.12.5"
  }
 },
 "nbformat": 4,
 "nbformat_minor": 2
}
