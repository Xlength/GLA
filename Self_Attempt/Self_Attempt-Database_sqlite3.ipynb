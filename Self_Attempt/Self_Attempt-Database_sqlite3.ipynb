{
 "cells": [
  {
   "cell_type": "markdown",
   "id": "950720fa1b551aa",
   "metadata": {},
   "source": [
    "<h1 style=\"font-size: px;\">Self Attempt-Database sqlite3 </h1>"
   ]
  },
  {
   "cell_type": "code",
   "execution_count": null,
   "id": "ad20df18a5b07a06",
   "metadata": {
    "ExecuteTime": {
     "end_time": "2024-09-23T02:05:52.964452Z",
     "start_time": "2024-09-23T02:05:52.961296Z"
    }
   },
   "outputs": [],
   "source": [
    "# I should remember all the things I have done in the past.\n",
    "# 1.语法：操作均大写\n",
    "# 2.操作1+表格+操作2+行或列信息+WHERE+筛选条件+ORDER BY+行或列信息+ASC或DESC\n",
    "# 3.先名字后数据类型：数据类型有 TEXT,INTEGER,REAL,BLOB,NULL\n",
    "# 4.SELECT要放在FROM\n",
    "# 5.AND和OR是逻辑运算符\n",
    "# 6.字符串要用引号\n",
    "# 7.排序：ASC升序，DESC降序\n",
    "# 8.CREATE中AUTOINCREMENT自增长\n",
    "# 9.三引号用来写长的分段\n",
    "# 10.分号意味着语句结束，最好保持写的习惯\n",
    "# 11.INSERT后面一定要跟INTO，但是INTO有可能跟SELECT\n",
    "# 12.UPDATE后面一定要跟SET，但是SET有可能跟SELECT\n",
    "# 13.UPDATE table_name: 指定你想要更新的表名。\n",
    "# SET column1 = value1, column2 = value2: 指定你要更新的列及其新值。\n",
    "# WHERE condition: 指定要更新哪些行。注意，最好加上 WHERE 子句，以避免更新整个表的所有行。"
   ]
  },
  {
   "cell_type": "code",
   "execution_count": 2,
   "id": "643526ba45bde255",
   "metadata": {
    "ExecuteTime": {
     "end_time": "2024-09-23T17:30:22.957808Z",
     "start_time": "2024-09-23T17:30:22.954858Z"
    }
   },
   "outputs": [],
   "source": [
    "import sqlite3 #import"
   ]
  },
  {
   "cell_type": "code",
   "execution_count": 3,
   "id": "e634e3f3b8004124",
   "metadata": {
    "ExecuteTime": {
     "end_time": "2024-09-23T17:31:06.493078Z",
     "start_time": "2024-09-23T17:31:06.489892Z"
    }
   },
   "outputs": [],
   "source": [
    "conn=sqlite3.connect(\"xiao.db\") #connect"
   ]
  },
  {
   "cell_type": "code",
   "execution_count": 4,
   "id": "2e31220311155c6f",
   "metadata": {
    "ExecuteTime": {
     "end_time": "2024-09-23T17:31:43.064105Z",
     "start_time": "2024-09-23T17:31:43.061319Z"
    }
   },
   "outputs": [],
   "source": [
    "cursor=conn.cursor() #create a cursor"
   ]
  },
  {
   "cell_type": "code",
   "execution_count": 5,
   "id": "761f95577591b289",
   "metadata": {
    "ExecuteTime": {
     "end_time": "2024-09-23T17:32:36.690897Z",
     "start_time": "2024-09-23T17:32:36.680332Z"
    }
   },
   "outputs": [
    {
     "data": {
      "text/plain": [
       "<sqlite3.Cursor at 0x25cad3d11c0>"
      ]
     },
     "execution_count": 5,
     "metadata": {},
     "output_type": "execute_result"
    }
   ],
   "source": [
    "cursor.execute('''\n",
    "CREATE TABLE IF NOT EXISTS students (\n",
    "    student_id INTEGER PRIMARY KEY AUTOINCREMENT,\n",
    "    student_name TEXT NOT NULL,\n",
    "    student_age INTEGER NOT NULL,\n",
    "    major TEXT\n",
    ");\n",
    "''') #create a table\n"
   ]
  },
  {
   "cell_type": "code",
   "execution_count": 7,
   "id": "83bdff741f3c4822",
   "metadata": {
    "ExecuteTime": {
     "end_time": "2024-09-23T17:37:45.286673Z",
     "start_time": "2024-09-23T17:37:45.279815Z"
    }
   },
   "outputs": [],
   "source": [
    "cursor.execute('''\n",
    "INSERT INTO students (student_name, student_age, major)\n",
    "VALUES ('John Doe', 21, 'Computer Science');\n",
    "''')\n",
    "conn.commit()\n"
   ]
  },
  {
   "cell_type": "code",
   "execution_count": 8,
   "id": "fd76cf4770f7edf1",
   "metadata": {
    "ExecuteTime": {
     "end_time": "2024-09-23T17:38:49.405533Z",
     "start_time": "2024-09-23T17:38:49.398458Z"
    }
   },
   "outputs": [],
   "source": [
    "cursor.execute('''\n",
    "INSERT INTO students (student_name, student_age, major)\n",
    "VALUES ('Alice', 23, 'Mathematics');\n",
    "''')\n",
    "conn.commit()"
   ]
  },
  {
   "cell_type": "code",
   "execution_count": 9,
   "id": "cf6a642ec2eddb25",
   "metadata": {
    "ExecuteTime": {
     "end_time": "2024-09-23T17:41:29.688979Z",
     "start_time": "2024-09-23T17:41:29.681677Z"
    }
   },
   "outputs": [],
   "source": [
    "cursor.execute('''\n",
    "INSERT INTO students(student_name, student_age, major)\n",
    "VALUES \n",
    "    ('Bob', 20, 'Computer Science'),\n",
    "    ('Charlie', 22, 'Physics');\n",
    "''')\n",
    "conn.commit()\n"
   ]
  },
  {
   "cell_type": "code",
   "execution_count": 10,
   "id": "d4155a28e99caec2",
   "metadata": {
    "ExecuteTime": {
     "end_time": "2024-09-23T17:44:34.468120Z",
     "start_time": "2024-09-23T17:44:34.461120Z"
    }
   },
   "outputs": [],
   "source": [
    "cursor.execute('''\n",
    "UPDATE students\n",
    "SET student_age = 24\n",
    "WHERE student_name = 'Alice';\n",
    "''')\n",
    "conn.commit()"
   ]
  },
  {
   "cell_type": "code",
   "execution_count": 11,
   "id": "325b60abbe12fb9a",
   "metadata": {
    "ExecuteTime": {
     "end_time": "2024-09-23T17:52:28.166047Z",
     "start_time": "2024-09-23T17:52:28.157559Z"
    }
   },
   "outputs": [],
   "source": [
    "cursor.execute('''\n",
    "DELETE FROM students\n",
    "WHERE student_name = 'Bob';\n",
    "''')\n",
    "conn.commit()\n"
   ]
  },
  {
   "cell_type": "code",
   "execution_count": 14,
   "id": "2388a8db2a523ab9",
   "metadata": {
    "ExecuteTime": {
     "end_time": "2024-09-23T17:54:28.759565Z",
     "start_time": "2024-09-23T17:54:28.755772Z"
    }
   },
   "outputs": [
    {
     "name": "stdout",
     "output_type": "stream",
     "text": [
      "(1, 'John Doe', 21, 'Computer Science')\n",
      "(2, 'John Doe', 21, 'Computer Science')\n",
      "(3, 'Alice', 24, 'Mathematics')\n",
      "(5, 'Charlie', 22, 'Physics')\n"
     ]
    }
   ],
   "source": [
    "cursor.execute('''\n",
    "SELECT * FROM students;\n",
    "''')\n",
    "#注意！！！这里选定的是代理人CURSOR，所以要加fetch语句！！\n",
    "# 获取所有结果\n",
    "results = cursor.fetchall()\n",
    "\n",
    "# 打印结果\n",
    "for row in results:\n",
    "    print(row)"
   ]
  },
  {
   "cell_type": "code",
   "execution_count": 6,
   "id": "bc4c6419b4705daa",
   "metadata": {},
   "outputs": [
    {
     "name": "stdout",
     "output_type": "stream",
     "text": [
      "[(1, 'John', 'Math', 75), (2, 'Alice', 'Python', 90), (4, 'zzx', 'COMP', 100), (5, 'Zhang', 'SOPG', 100), (2992330, 'Zhang Zhixing', 'COMP', 100)]\n"
     ]
    }
   ],
   "source": [
    "import sqlite3\n",
    "\n",
    "# 使用上下文管理器确保连接自动关闭\n",
    "with sqlite3.connect('company.db') as db:\n",
    "    cursor = db.cursor()\n",
    "    \n",
    "    # 修复拼写错误\n",
    "    cursor.execute('''CREATE TABLE IF NOT EXISTS students(\n",
    "        id INTEGER PRIMARY KEY, \n",
    "        name TEXT NOT NULL, \n",
    "        class TEXT NOT NULL, \n",
    "        grade INTEGER);''')\n",
    "    \n",
    "       # 创建 class 表\n",
    "    cursor.execute('''\n",
    "    CREATE TABLE IF NOT EXISTS class (\n",
    "        class TEXT PRIMARY KEY,\n",
    "        lecturer TEXT NOT NULL\n",
    "    )''')\n",
    "    # 插入一些测试数据到 students 表\n",
    "    cursor.execute(\"INSERT OR IGNORE INTO students (id, name, class, grade) VALUES (1, 'John', 'Math', 75)\")\n",
    "    cursor.execute(\"INSERT OR IGNORE INTO students (id, name, class, grade) VALUES (2, 'Alice', 'Python', 90)\")\n",
    "\n",
    "    # 插入一些测试数据到 class 表\n",
    "    cursor.execute(\"INSERT OR IGNORE INTO class (class, lecturer) VALUES ('Math', 'Dr. Smith')\")\n",
    "    cursor.execute(\"INSERT OR IGNORE INTO class (class, lecturer) VALUES ('Python', 'Prof. Johnson')\")\n",
    "    # 修复插入语句中的引号问题\n",
    "    # cursor.execute('''INSERT INTO students(id, name, class, grade) \n",
    "    # VALUES(1, 'Mary', 'Python', 67)''')\n",
    "    \n",
    "    # 提交初始插入数据\n",
    "    db.commit()\n",
    "    \n",
    "    # 获取用户输入\n",
    "    newID = int(input('Enter ID number: '))  # 转换为整数类型\n",
    "    newName = input('Enter name: ')\n",
    "    newClass = input('Enter class: ')\n",
    "    newGrade = int(input('Enter grade: '))  # 转换为整数类型\n",
    "    \n",
    "    # 插入用户输入的数据\n",
    "    cursor.execute('''INSERT INTO students(id, name, class, grade) \n",
    "    VALUES(?, ?, ?, ?)''', (newID, newName, newClass, newGrade))\n",
    "    \n",
    "    # 提交用户输入的数据\n",
    "    db.commit()\n",
    "    \n",
    "    # 查询并打印所有数据\n",
    "    cursor.execute('SELECT * FROM students')\n",
    "    print(cursor.fetchall())\n"
   ]
  },
  {
   "cell_type": "code",
   "execution_count": 7,
   "id": "3a097c17",
   "metadata": {},
   "outputs": [
    {
     "name": "stdout",
     "output_type": "stream",
     "text": [
      "(1, 'John', 'Math', 75)\n",
      "(2, 'Alice', 'Python', 90)\n",
      "(4, 'zzx', 'COMP', 100)\n",
      "(5, 'Zhang', 'SOPG', 100)\n",
      "(2992330, 'Zhang Zhixing', 'COMP', 100)\n",
      "(2, 'Alice', 'Python', 90)\n",
      "(1, 'John', 'Math', 75)\n",
      "(5, 'Zhang', 'SOPG', 100)\n",
      "(2992330, 'Zhang Zhixing', 'COMP', 100)\n",
      "(4, 'zzx', 'COMP', 100)\n",
      "(1, 'John', 'Math', 75)\n",
      "(2, 'Alice', 'Python', 90)\n",
      "(4, 'zzx', 'COMP', 100)\n",
      "(5, 'Zhang', 'SOPG', 100)\n",
      "(2992330, 'Zhang Zhixing', 'COMP', 100)\n",
      "(2, 'Alice', 'Python', 90)\n",
      "(1, 'John', 75)\n",
      "(2, 'Alice', 90)\n",
      "(4, 'zzx', 100)\n",
      "(5, 'Zhang', 100)\n",
      "(2992330, 'Zhang Zhixing', 100)\n"
     ]
    }
   ],
   "source": [
    "# Example 1: Display all data from the students table\n",
    "cursor.execute(\"SELECT * FROM students\")\n",
    "for x in cursor.fetchall():\n",
    "    print(x)  # Displays all the data from the students table and displays each record on a separate line\n",
    "\n",
    "# Example 2: Display all data sorted by name\n",
    "cursor.execute(\"SELECT * FROM students ORDER BY name\")\n",
    "for x in cursor.fetchall():\n",
    "    print(x)  # Selects all the data from the students table, sorted by name, and displays each record on a separate line\n",
    "\n",
    "# Example 3: Select data where grade is greater than 50\n",
    "cursor.execute(\"SELECT * FROM students WHERE grade > 50\")\n",
    "for x in cursor.fetchall():\n",
    "    print(x)  # Selects all the data from the students table where the grade is over 50\n",
    "\n",
    "# Example 4: Select data where class is 'Python'\n",
    "cursor.execute(\"SELECT * FROM students WHERE class = 'Python'\")\n",
    "for x in cursor.fetchall():\n",
    "    print(x)  # Selects all the data from the students table where the class is 'Python'\n",
    "\n",
    "\n",
    "\n",
    "# Example 6: Select specific fields (ID, name, grade) from students\n",
    "cursor.execute(\"SELECT id, name, grade FROM students\")\n",
    "for x in cursor.fetchall():\n",
    "    print(x)  # Selects the ID, name, and grade from the students table\n"
   ]
  },
  {
   "cell_type": "code",
   "execution_count": 9,
   "id": "2d5974c7",
   "metadata": {},
   "outputs": [
    {
     "name": "stdout",
     "output_type": "stream",
     "text": [
      "(4, 'zzx', 'COMP', 100)\n",
      "(2992330, 'Zhang Zhixing', 'COMP', 100)\n",
      "(4, 'zzx')\n",
      "(2992330, 'Zhang Zhixing')\n"
     ]
    }
   ],
   "source": [
    "# Example 1: Query records based on user input\n",
    "whichClass = input(\"Enter a class: \")\n",
    "cursor.execute(\"SELECT * FROM students WHERE class=?\", [whichClass])\n",
    "for x in cursor.fetchall():\n",
    "    print(x)  # Allows the user to enter a class and displays the records of all the students in that class.\n",
    "\n",
    "# Example 2: Join students and class tables\n",
    "cursor.execute(\"\"\"\n",
    "SELECT students.id, students.name\n",
    "FROM students\n",
    "WHERE students.class = ?\n",
    "\"\"\",[whichClass])\n",
    "for x in cursor.fetchall():\n",
    "    print(x)  # Selects the ID and name fields from the students table and the lecturer field from the class table. \n",
    "              # If you do not specify how the tables are linked, Python assumes every student takes every class.\n",
    "\n",
    "# Example 3: Update a record\n",
    "cursor.execute(\"UPDATE students SET name = 'Richard' WHERE id = 1\")\n",
    "db.commit()  # Updates the data in the table, overwriting the original name to \"Richard\" for student ID 1.\n",
    "\n",
    "# Example 4: Delete a record\n",
    "cursor.execute(\"DELETE FROM students WHERE id = 1\")\n",
    "db.commit()  # Deletes any data in the students table where the ID is 1.\n"
   ]
  },
  {
   "cell_type": "code",
   "execution_count": 10,
   "id": "71b9c98a",
   "metadata": {},
   "outputs": [
    {
     "name": "stdout",
     "output_type": "stream",
     "text": [
      "Students in class: COMP\n",
      "(4, 'zzx', 'COMP', 100)\n",
      "(2992330, 'Zhang Zhixing', 'COMP', 100)\n"
     ]
    }
   ],
   "source": [
    "# Example 1: 查询特定班级的记录\n",
    "whichClass = input(\"Enter a class: \")\n",
    "cursor.execute(\"SELECT * FROM students WHERE class=?\", (whichClass,))\n",
    "print(\"Students in class:\", whichClass)\n",
    "for x in cursor.fetchall():\n",
    "    print(x)  # 显示输入的班级的学生记录\n"
   ]
  }
 ],
 "metadata": {
  "kernelspec": {
   "display_name": "AIpython",
   "language": "python",
   "name": "python3"
  },
  "language_info": {
   "codemirror_mode": {
    "name": "ipython",
    "version": 3
   },
   "file_extension": ".py",
   "mimetype": "text/x-python",
   "name": "python",
   "nbconvert_exporter": "python",
   "pygments_lexer": "ipython3",
   "version": "3.12.5"
  }
 },
 "nbformat": 4,
 "nbformat_minor": 5
}
