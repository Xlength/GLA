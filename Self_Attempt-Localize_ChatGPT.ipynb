{
 "cells": [
  {
   "cell_type": "markdown",
   "metadata": {},
   "source": [
    "<h1 style='font-size: px'> Self Attempt Localize Chatgpt "
   ]
  },
  {
   "cell_type": "markdown",
   "metadata": {},
   "source": [
    "<h1 style = 'font-size:25px;'> Building a Simple Simulation"
   ]
  },
  {
   "cell_type": "code",
   "execution_count": null,
   "metadata": {},
   "outputs": [],
   "source": [
    "'''\n",
    "Project Stopped！！！\n",
    "I was fooled by the topic:\n",
    "    I thought It would be like solving the connection from ChatGPT to IDE interface.\n",
    "    But It turns out to be a boring predefined chat.\n",
    "    SO there's no need to code!\n",
    "    But remember the Syntax:'if sth in sth':\n",
    "'''"
   ]
  },
  {
   "cell_type": "code",
   "execution_count": null,
   "metadata": {},
   "outputs": [],
   "source": []
  }
 ],
 "metadata": {
  "language_info": {
   "name": "python"
  }
 },
 "nbformat": 4,
 "nbformat_minor": 2
}
