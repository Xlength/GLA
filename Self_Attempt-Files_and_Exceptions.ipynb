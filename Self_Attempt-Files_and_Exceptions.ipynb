{
 "cells": [
  {
   "cell_type": "markdown",
   "metadata": {},
   "source": [
    "<h1 font-size=40px> Self_Attempt-Files and Exceptions</h1>"
   ]
  },
  {
   "cell_type": "markdown",
   "metadata": {},
   "source": [
    "<h1 font-size=30px> 1.File </h1>"
   ]
  },
  {
   "cell_type": "code",
   "execution_count": null,
   "metadata": {},
   "outputs": [],
   "source": [
    "'''  \n",
    "Files are classified as text file or binary file\n",
    "1.Text files: Can only contains characters using an encoding system such as ASCII and UTF-8. \n",
    "can be viewed and modified using any text editor. \n",
    "2.Binary files: sequence of bits. Can contain any type of data, not just characters. E.g. images, sound, videos.\n",
    "\n",
    "'''\n",
    "'''\n",
    "1.First open a file\n",
    "The open function takes two arguments: \n",
    "The (string) that contains the name of the file and the (string that indicates the access mode) for the file.\n",
    "\n",
    "2.Access modes:\n",
    "Access modes: \n",
    "1)read (denoted by “r”) inf=open(\"input.txt\",\"r\")\n",
    "    Opens for reading only and will not allow you to make any changes. \n",
    "2)write (denoted by “w”)  inf=open(\"input.txt\",\"w\")\n",
    "    Creates a new file and writes to that file. If the file already exist, \n",
    "    a new file will be created, overwriting the existing file\n",
    "\n",
    "3)append (denoted by “a”) inf=open(\"input.txt\",\"a\")\n",
    "    Opens for writing, appending to the end of the file\n",
    "\n",
    "4)xor (denoted by “x”) inf=open(\"input.txt\",\"x\") #注意这个不算access mode！！\n",
    "    Creates a new file and writes to that file. If the file already exits,\n",
    "    the programme will crash rather than overwriting it.\n",
    "\n",
    "\n",
    "3.Read and Readline\n",
    "1)Readline method:\n",
    "reads one line from the file and returns it as a string,\n",
    "much like the input function reads a line of text typed on the keyboard.\n",
    "\n",
    "Readline returns an empty string when there is no further data to read from the file.\n",
    "\n",
    "2)Read method:\n",
    "The read method will return the entire content of the file as one string \n",
    "– further processing is required to break the string into smaller pieces\n",
    "\n",
    "\n",
    "'''"
   ]
  },
  {
   "cell_type": "code",
   "execution_count": null,
   "metadata": {},
   "outputs": [],
   "source": [
    "#1.When a file is opened in write mode, a new empty file is created\n",
    "#  So if that file already existed then it will be deleted and all data in it will be lost.\n",
    "#2.Open an existing file in append mode to write data at the end of that file.\n",
    "#  If the file opened in append mode does not exist, then a new file will be created.\n",
    "#3.The write method can be used to write data opened either to write mode or append mode.\n",
    "#4.It takes one argument, a string. Convert other value types to string using the str function.\n",
    "#5.Unlike print method, the write method does not automatically move to the next line.  \\n denotes end of line marker.\n"
   ]
  },
  {
   "cell_type": "code",
   "execution_count": 1,
   "metadata": {},
   "outputs": [],
   "source": [
    "fname=input(\"Enter file name: \")\n",
    "outf=open(fname,\"w\")\n",
    "\n",
    "limit=int(input(\"Enter the number of the maximum\"))\n",
    "\n",
    "for num in range (1,limit+1):\n",
    "    outf.write(str(num)+' ')\n",
    "\n",
    "outf.close()    "
   ]
  },
  {
   "cell_type": "code",
   "execution_count": 2,
   "metadata": {},
   "outputs": [],
   "source": [
    "#.CSV (Comma Separated Values) is associated with importing and exporting spreadsheets and databases.\n",
    "# Allows greater control over data\n",
    "# When opening a .csv file, you must specify how that file will be used. The options are:\n"
   ]
  },
  {
   "cell_type": "code",
   "execution_count": 3,
   "metadata": {},
   "outputs": [],
   "source": [
    "import csv\n",
    "\n",
    "file=open(\"Stars.csv\",\"w\")\n",
    "\n",
    "newRecord=\"Brian,73,Taurus\\n\"\n",
    "file.write(str(newRecord))\n",
    "file.close()"
   ]
  },
  {
   "cell_type": "code",
   "execution_count": 4,
   "metadata": {},
   "outputs": [],
   "source": [
    "name=input(\"Enter name: \")\n",
    "age =input(\"Enter age:\")\n",
    "star=input(\"Enter star sign:\")\n",
    "\n",
    "newRecord=name+\",\"+age+\",\"+star+\"\\n\"\n",
    "file=open(\"Stars.csv\",\"a\")\n",
    "file.write(str(newRecord))\n",
    "file.close()\n"
   ]
  },
  {
   "cell_type": "code",
   "execution_count": 11,
   "metadata": {},
   "outputs": [
    {
     "name": "stdout",
     "output_type": "stream",
     "text": [
      "Brian,73,Taurus\n",
      "\n",
      "zhixing Zhang,24,Virgin\n",
      "\n",
      "zhixing Zhang,24,Virgin\n",
      "\n"
     ]
    }
   ],
   "source": [
    "file=open(\"Stars.csv\",\"r\")\n",
    "\n",
    "for row in file:\n",
    "    print(row)\n",
    "search=input(\"Enter data to search: \")\n",
    "\n",
    "#在搜索前，必须把文件指针放在文件的开头！！！\n",
    "file = open(\"Stars.csv\",\"r\")\n",
    "#reader=csv.reader(file)\n",
    "for row in file:\n",
    "    if search in str(row):\n",
    "        print(row)"
   ]
  },
  {
   "cell_type": "code",
   "execution_count": 10,
   "metadata": {},
   "outputs": [
    {
     "name": "stdout",
     "output_type": "stream",
     "text": [
      "Brian,73,Taurus\n",
      "zhixing Zhang,24,Virgin\n",
      "\n"
     ]
    }
   ],
   "source": [
    "file = open(\"Stars.csv\",\"r\")\n",
    "print(file.read())"
   ]
  },
  {
   "cell_type": "markdown",
   "metadata": {},
   "source": [
    "<h1 font-size=30px> 2.Command Line Arguments</h1>"
   ]
  },
  {
   "cell_type": "code",
   "execution_count": null,
   "metadata": {},
   "outputs": [],
   "source": []
  }
 ],
 "metadata": {
  "kernelspec": {
   "display_name": ".venv",
   "language": "python",
   "name": "python3"
  },
  "language_info": {
   "codemirror_mode": {
    "name": "ipython",
    "version": 3
   },
   "file_extension": ".py",
   "mimetype": "text/x-python",
   "name": "python",
   "nbconvert_exporter": "python",
   "pygments_lexer": "ipython3",
   "version": "3.11.0"
  }
 },
 "nbformat": 4,
 "nbformat_minor": 2
}
