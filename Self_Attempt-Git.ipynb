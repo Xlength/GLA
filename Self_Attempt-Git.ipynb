{
 "cells": [
  {
   "cell_type": "markdown",
   "id": "88eee485f9490799",
   "metadata": {},
   "source": [
    "<h1 style=\"font-size: px;\"> Self Attempt-Git and Google Colab"
   ]
  },
  {
   "cell_type": "code",
   "execution_count": 1,
   "id": "499676dcd31b9c2e",
   "metadata": {
    "ExecuteTime": {
     "end_time": "2024-09-25T00:43:10.774801Z",
     "start_time": "2024-09-25T00:43:10.771302Z"
    }
   },
   "outputs": [],
   "source": [
    "# Git的基本操作\n",
    "# 1.安装 Git，使用git --version检查版本\n",
    "# 2.配置 Git，git config --global user.name \"Your Name\"\n",
    "#            git config --global user.email \"your_email@example.com\"\n",
    "# 3.创建一个新的 Git 仓库，git init\n",
    "# 4.克隆一个已有的仓库 git clone <repository_url>\n",
    "# 5.查看状态 git status\n",
    "# 6.添加文件 将更改添加到暂存区（staging area）。可以添加特定文件或所有更改的文件。\n",
    "# 添加特定文件：git add <filename>\n",
    "# 添加所有更改的文件：git add .\n",
    "# 7.提交更改 将暂存区的更改提交到本地仓库。每次提交都需要提供一个提交信息，描述这次更改的内容。\n",
    "# git commit -m \"Your commit message\"\n",
    "# 8.查看提交历史 git log\n",
    "# 9.创建和管理分支 git checkout -b <branch_name>\n",
    "# 查看所有分支：git branch\n",
    "# 切换到已有分支：git checkout <branch_name>\n",
    "# 10.合并分支：git merge <branch_name>\n",
    "# 11.推送更改：git push origin <branch_name>\n",
    "# 12.拉取更新：git pull\n",
    "# 13.删除分支：git branch -d <branch_name>\n",
    "# 14.处理冲突：在合并分支时可能会遇到冲突。Git 会标记冲突的文件，你需要手动解决这些冲突，然后再进行提交。\n",
    "# 15.回滚更改：git checkout -- <filename>\n",
    "# 16.重置和恢复：git reset --hard <commit_hash>"
   ]
  },
  {
   "cell_type": "code",
   "execution_count": 2,
   "id": "db8e9a3cddff83fe",
   "metadata": {
    "ExecuteTime": {
     "end_time": "2024-09-25T01:03:32.349688Z",
     "start_time": "2024-09-25T01:03:32.345081Z"
    }
   },
   "outputs": [],
   "source": [
    "\n",
    "#我之前第一次的提交行为\n",
    "# 1.git version \n",
    "# 2.echo \"This is my first Git project\" > readme.txt\n",
    "# 3.git init\n",
    "# 4.git config --global user.name \"Zhang ZhiXing\"\n",
    "#   git config --user.email \"1715017258@qq.com\"\n",
    "#   git add .\n",
    "#   git commit -m \"初始提交\"\n",
    "#   git remote add origin https://github.com/Xlength/GLA.git\n",
    "#   git push -u origin master\n",
    "#   git log\n",
    "#   "
   ]
  },
  {
   "cell_type": "code",
   "execution_count": 3,
   "id": "18f57b29663d6d65",
   "metadata": {
    "ExecuteTime": {
     "end_time": "2024-09-25T01:03:29.555429Z",
     "start_time": "2024-09-25T01:03:29.552874Z"
    }
   },
   "outputs": [],
   "source": [
    "# 第二次提交行为\n",
    "# 1.git add \"Self_Attempt-Git.ipynb\" 因为中间用空格分开了，所以这次要用引号框起来。可以git add .添加全部\n",
    "# 2.git commit -m \"done\" // -m + \"名字\"\n",
    "# 3.git push // 第一次解决了连接问题，后面直接push就行"
   ]
  },
  {
   "cell_type": "code",
   "execution_count": null,
   "id": "cd3d2f7b",
   "metadata": {},
   "outputs": [],
   "source": [
    "# Google Colab\n",
    "# 1.文件+新建笔记本\n",
    "# 需要代码用代码，需要markdown用文本或者ctrl+M\n",
    "# "
   ]
  }
 ],
 "metadata": {
  "kernelspec": {
   "display_name": "Python 3",
   "language": "python",
   "name": "python3"
  },
  "language_info": {
   "codemirror_mode": {
    "name": "ipython",
    "version": 3
   },
   "file_extension": ".py",
   "mimetype": "text/x-python",
   "name": "python",
   "nbconvert_exporter": "python",
   "pygments_lexer": "ipython3",
   "version": "3.11.0"
  }
 },
 "nbformat": 4,
 "nbformat_minor": 5
}
