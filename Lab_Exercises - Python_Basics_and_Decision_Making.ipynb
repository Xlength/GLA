{
 "cells": [
  {
   "cell_type": "markdown",
   "id": "484df471adfb8d2c",
   "metadata": {},
   "source": "<h1 style=\"font-size: px;\">Lab Exercises - Python Basics and Decision Making </h1>"
  },
  {
   "metadata": {},
   "cell_type": "markdown",
   "source": "<h1 style=\"font-size: 30px;\"> 1.Python Basics </h1>",
   "id": "3eabd9506bb00294"
  },
  {
   "cell_type": "code",
   "execution_count": 1,
   "id": "b11183bcb33bbc06",
   "metadata": {
    "ExecuteTime": {
     "end_time": "2024-09-23T01:49:44.076582Z",
     "start_time": "2024-09-23T01:49:40.825287Z"
    }
   },
   "outputs": [
    {
     "name": "stdout",
     "output_type": "stream",
     "text": [
      "\n",
      "Regular Price: £17.45\n",
      "Discount because its one day old: £10.47\n",
      "Total Price: £6.98\n"
     ]
    }
   ],
   "source": [
    "'''Exercise(1): Day old Bread\n",
    "A bakery sells loaves of bread for £ 3.49 each. Day old bread is discounted by 60 percent. Write a \n",
    "programme that begins by reading the number of loaves of day old bread being purchased from the \n",
    "user. Then your programme should display the (regular price for the bread), the (discount) because it is \n",
    "a day old, and the (total price). Each of these amounts should be displayed on its own line with an \n",
    "appropriate label. All of the values should be displayed using two decimal places, and the (decimal \n",
    "points) in all the numbers should be aligned when reasonable values are entered by the user'''\n",
    "\n",
    "# This is the right answer!\n",
    "regular_price_per_loaf = 3.49\n",
    "discount_rate = 0.60\n",
    "\n",
    "# Read the number of loaves from the user\n",
    "try:\n",
    "    number_of_loaves = int(input(\"Enter the number of loaves of day old bread: \"))\n",
    "\n",
    "    regular_price = number_of_loaves * regular_price_per_loaf # Calculate the regular price\n",
    "\n",
    "    discount = regular_price * discount_rate # Calculate the discount\n",
    "\n",
    "    total_price = regular_price - discount   # Calculate the total price after discount\n",
    "\n",
    "    # Display the results with proper formatting\n",
    "    print(f\"\\nRegular Price: £{regular_price:.2f}\")\n",
    "    print(f\"Discount because its one day old: £{discount:.2f}\")\n",
    "    print(f\"Total Price: £{total_price:.2f}\")\n",
    "\n",
    "except ValueError:\n",
    "    print(\"Please enter a valid number of loaves.\")\n"
   ]
  },
  {
   "cell_type": "code",
   "id": "231a98d8d4658d19",
   "metadata": {
    "ExecuteTime": {
     "end_time": "2024-09-23T18:13:12.418997Z",
     "start_time": "2024-09-23T18:13:03.952700Z"
    }
   },
   "source": [
    "'''Exercise(2): Length and Slicing (23)\n",
    "Write a programme that asks the user to type in the first line of their favourite song and display the \n",
    "length of that string. The programme should also ask a starting number and an ending number and \n",
    "then display just that section of the text.''' \n",
    "\n",
    "# This is the first attempt!\n",
    "first_line_of_favourite_song = input(\"first line of Your favourite song\")\n",
    "print(len(first_line_of_favourite_song))\n",
    "starting_number = int(input(\"Enter the staring number\"))\n",
    "ending_number = int(input(\"Enter the ending number\"))\n",
    "print(f\"This is the display of this section:{first_line_of_favourite_song[starting_number:ending_number]}\")"
   ],
   "outputs": [
    {
     "name": "stdout",
     "output_type": "stream",
     "text": [
      "4\n",
      "This is the display of this section:ong\n"
     ]
    }
   ],
   "execution_count": 4
  },
  {
   "cell_type": "code",
   "id": "1b91d8df1e52198c",
   "metadata": {
    "ExecuteTime": {
     "end_time": "2024-09-24T14:16:52.495730Z",
     "start_time": "2024-09-24T14:16:41.248103Z"
    }
   },
   "source": [
    "'''Exercise(3): Upper or Lower case name\n",
    "Write a programme that asks the user to enter their first name. If the length of the first name is \n",
    "under five characters, the programme should ask them to enter their surname and join them \n",
    "together (without a space) and display the name in upper case. If the length of their first name is five \n",
    "or more characters, display their first name in lower case.'''\n",
    "\n",
    "\n",
    "#This is the first attempt!\n",
    "try:\n",
    "    first_name = input(\"Enter your first name\")\n",
    "    if len(first_name)<5:\n",
    "        surname = input(\"Enter your surname\")\n",
    "        surname += first_name\n",
    "        print(f'First name in upper case:{surname.upper()}')\n",
    "    else:\n",
    "        print(f'First name in lower case:{first_name}')\n",
    "except ValueError:\n",
    "    print(\"Please Enter the valid first name!\")\n",
    "    \n"
   ],
   "outputs": [
    {
     "name": "stdout",
     "output_type": "stream",
     "text": [
      "First name in upper case:ZHIXINGZHAN\n"
     ]
    }
   ],
   "execution_count": 1
  },
  {
   "metadata": {},
   "cell_type": "code",
   "outputs": [],
   "execution_count": null,
   "source": [
    "'''Exercise(4): Pig Latin\n",
    "Pig Latin takes the first consonant of a word, moves it to the end of the word and adds on an “ay”. If \n",
    "a word begins with a vowel you just add “way” to the end. For example, pig becomes igpay\n",
    "banana becomes ananabay, and aardvark becomes aarvarkway. Create a programme that will \n",
    "ask the user to enter a word and change it into Pig Latin. Make sure the new word is displayed in \n",
    "lower case.'''\n",
    "\n",
    "#This is the first attempt!\n",
    "word = input(\"Enter a word\")\n",
    "\n",
    "    "
   ],
   "id": "472a98e55afe7d90"
  },
  {
   "metadata": {},
   "cell_type": "markdown",
   "source": "<h1 style=\"font-size: 30px;\"> 2.Decision Making </h1>",
   "id": "c3a348b86cc075c4"
  },
  {
   "metadata": {},
   "cell_type": "code",
   "outputs": [],
   "execution_count": null,
   "source": [
    "'''Exercise(5): Umbrella or no umbrella\n",
    "Write a programme that asks the user if it is raining and convert their answer to lower case so that it \n",
    "doesn’t matter what case they type in. If they answer “yes”, ask if it is windy. If they answer “yes” to \n",
    "the second question, display the answer “It’s too windy for an umbrella”, otherwise display the \n",
    "message “Take an umbrella”. If they did not answer “yes” to the first question, display the answer \n",
    "“Enjoy your day”.'''\n"
   ],
   "id": "d7132bc1a9343f05"
  },
  {
   "metadata": {},
   "cell_type": "code",
   "outputs": [],
   "execution_count": null,
   "source": [
    "'''Exercise(6): Your age\n",
    "Write a programme that asks the user’s age. If they are 18 or over, display the message “you can \n",
    "vote”. If they are 17, display the message “You can learn how to drive”. If they are 16, display the \n",
    "message “you can buy a lottery ticket” and if they are under 16, display the message “You can go \n",
    "Trick-or-Treating”.'''"
   ],
   "id": "1437f468dc77e3a"
  },
  {
   "metadata": {},
   "cell_type": "code",
   "outputs": [],
   "execution_count": null,
   "source": [
    "'''Exercise(7): Even or Odd\n",
    "Write a programme that reads an integer from the user. Then your programme should display a \n",
    "message indicating whether the integer is even or odd.'''"
   ],
   "id": "7190e83a662be0e1"
  },
  {
   "metadata": {},
   "cell_type": "code",
   "outputs": [],
   "execution_count": null,
   "source": [
    "'''Exercise(8): Vowel or Consonant\n",
    "In the exercise, you will create a programme that reads a letter of the alphabet from the user. If the \n",
    "user enters a, e, i, o or u then your programme should display a message indicating that the \n",
    "entered letter is a vowel. If a user enters y then your programme should display a message \n",
    "indicating that sometimes y is a vowel, and sometimes y is a consonant. Otherwise, your \n",
    "programme should display a message indicating that the letter is a consonant.'''"
   ],
   "id": "71934b9ef3b292a9"
  },
  {
   "metadata": {},
   "cell_type": "code",
   "outputs": [],
   "execution_count": null,
   "source": [
    "'''Exercise(9): Name the shape\n",
    "Write a programme that determines the name of a shape from its number of sides. Read the \n",
    "number of sides from the user and then report the appropriate name as part of a meaningful \n",
    "message. Your programme should support shapes with anywhere from 3 to up to (and including) 10 \n",
    "sides. If a number of sides outside of this range is entered then your programme should display an \n",
    "appropriate error message.'''"
   ],
   "id": "1f8743fb395a9d96"
  },
  {
   "metadata": {},
   "cell_type": "code",
   "outputs": [],
   "execution_count": null,
   "source": [
    "'''Exercise(10): Classifying Triangles\n",
    "A triangle can be classified based on the lengths of its sides as equilateral, isosceles or scalene. All \n",
    "three sides of an equilateral triangle have the same length. And isosceles triangle has two sides that \n",
    "are all the same length and a third side that is a different length. If all of the sides have different \n",
    "lengths then the triangle is scalene.\n",
    "Write a programme that reads the lengths of the three sides of a triangle from the user. Then display \n",
    "a message that states the triangle’s type.'''"
   ],
   "id": "291c16b303fd70ab"
  },
  {
   "metadata": {},
   "cell_type": "code",
   "outputs": [],
   "execution_count": null,
   "source": [
    "'''Exercise(11): Find the area\n",
    "Write a programme that displays the following message:\n",
    "1) Square\n",
    "2) Triangle\n",
    "Enter a number:\n",
    "If a user enters 1, then it should ask them for the length of one of its sides and display the area. \n",
    "If they select 2, it should ask for the base and height of the triangle and displays the area. If they \n",
    "type in anything else, it should give them a suitable error.'''"
   ],
   "id": "413c6b1420fbf400"
  }
 ],
 "metadata": {
  "kernelspec": {
   "display_name": "Python 3",
   "language": "python",
   "name": "python3"
  },
  "language_info": {
   "codemirror_mode": {
    "name": "ipython",
    "version": 2
   },
   "file_extension": ".py",
   "mimetype": "text/x-python",
   "name": "python",
   "nbconvert_exporter": "python",
   "pygments_lexer": "ipython2",
   "version": "2.7.6"
  }
 },
 "nbformat": 4,
 "nbformat_minor": 5
}
