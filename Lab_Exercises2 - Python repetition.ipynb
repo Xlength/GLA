{
 "cells": [
  {
   "cell_type": "markdown",
   "metadata": {},
   "source": [
    "<h1 style=\"font-size: px;\">Lab Exercises 2- Python Repetition </h1>"
   ]
  },
  {
   "cell_type": "markdown",
   "metadata": {},
   "source": [
    "<h1 style=\"font-size 30px;\"> 1.For Loop exercises </h1>"
   ]
  },
  {
   "cell_type": "code",
   "execution_count": 1,
   "metadata": {},
   "outputs": [
    {
     "name": "stdout",
     "output_type": "stream",
     "text": [
      "Zhang Zhixing\n",
      "Zhang Zhixing\n",
      "Zhang Zhixing\n",
      "Zhang Zhixing\n",
      "Zhang Zhixing\n",
      "Zhang Zhixing\n",
      "Zhang Zhixing\n",
      "Zhang Zhixing\n"
     ]
    }
   ],
   "source": [
    "'''\n",
    "1 - Write a programme that asks the user to enter their name and a number. If the number is less \n",
    "than 10, then display their name that number times; otherwise, display the message “Too high” \n",
    "three times.\n",
    "'''\n",
    "# This is my first attempt!\n",
    "\n",
    "name=input(\"Enter your name:\")\n",
    "n=int(input(\"Please enter a number\"))\n",
    "if n<10:\n",
    "    for i in range(n):\n",
    "        print(name)\n",
    "else:\n",
    "    for i in range(3):\n",
    "        print(\"Too high\")\n"
   ]
  },
  {
   "cell_type": "code",
   "execution_count": 3,
   "metadata": {},
   "outputs": [
    {
     "name": "stdout",
     "output_type": "stream",
     "text": [
      "15\n"
     ]
    }
   ],
   "source": [
    "'''\n",
    "2 – Set a variable called (total) to 0. Your programme should ask the user to (enter five numbers) and \n",
    "after each input, (ask them if they want that number to be included). If they do, the programme \n",
    "should then add the number to the total. If they do not want it included, the programme shouldn’t \n",
    "add the number to the total. After the user has entered all five numbers, display the total.\n",
    "'''\n",
    "total = 0\n",
    "\n",
    "for i in range(5):\n",
    "    number = int(input(\"Please enter a number\"))\n",
    "    include = input(\"Whether to include this number?(y/n): \").lower()\n",
    "    if include == 'y':\n",
    "        total += number\n",
    "    else:\n",
    "        continue\n",
    "    \n",
    "print(f'total is {total}')    \n"
   ]
  },
  {
   "cell_type": "code",
   "execution_count": 13,
   "metadata": {},
   "outputs": [
    {
     "name": "stdout",
     "output_type": "stream",
     "text": [
      "20\n",
      "19\n",
      "18\n",
      "17\n",
      "16\n",
      "15\n",
      "14\n",
      "13\n",
      "12\n",
      "11\n",
      "10\n",
      "9\n",
      "8\n",
      "7\n",
      "6\n",
      "5\n",
      "4\n"
     ]
    }
   ],
   "source": [
    "'''\n",
    "3 - Write a programme that asks which (direction) the user wants to count (up or down). If they select \n",
    "up, then the programme should ask them for the top number and count from (1 to that number). If \n",
    "the user selects down, the programme should ask them to enter a number below 20 and then count \n",
    "down from 20 to that number. If the user entered something other than up or down, display the \n",
    "message “I don’t understand”.\n",
    "'''\n",
    "# This is my first attempt!\n",
    "direction=input(\"Please enter up or down\").lower()\n",
    "if direction == 'up':\n",
    "    top=int(input(\"Please enter the top number\"))\n",
    "    for i in range(1,top+1):\n",
    "        print(i)\n",
    "elif direction == 'down':\n",
    "    bottom=int(input(\"Please enter the bottom number\"))\n",
    "    for i in range(20,bottom-1,-1):\n",
    "        print(i)\n",
    "else:\n",
    "    print(\"I don't understand\")"
   ]
  },
  {
   "cell_type": "markdown",
   "metadata": {
    "vscode": {
     "languageId": "plaintext"
    }
   },
   "source": [
    "<h1 style=\"font-size 30px;\"> 2.While Loop exercises </h1>"
   ]
  },
  {
   "cell_type": "code",
   "execution_count": 15,
   "metadata": {},
   "outputs": [
    {
     "name": "stdout",
     "output_type": "stream",
     "text": [
      "Total is displayed:15\n"
     ]
    }
   ],
   "source": [
    "'''\n",
    "4 - Write a programme that asks the user to enter a (number) and then enter (another number). The \n",
    "programme should add these two numbers together and then ask if they want to add another \n",
    "number. If the user enters “y”, the programme will ask them to enter another number and will keep \n",
    "adding numbers until the user stops answering “y”. Once the loop has stopped, display the total.\n",
    "'''\n",
    "number=int(input(\"Enter a number\"))\n",
    "another_number=int(input(\"Enter another number\"))\n",
    "number+=another_number\n",
    "flag = input(\"Do you want to add another number? (y/n): \").lower()\n",
    "while(flag=='y'):\n",
    "    another_number=int(input(\"Enter another number\"))\n",
    "    number+=another_number\n",
    "    flag=input(\"Do you want add another number?(y/n):\").lower()\n",
    "print(f\"Total is displayed:{number}\")\n",
    "    "
   ]
  },
  {
   "cell_type": "code",
   "execution_count": 18,
   "metadata": {},
   "outputs": [
    {
     "name": "stdout",
     "output_type": "stream",
     "text": [
      "Too low\n",
      "Too low\n",
      "Too low\n",
      "Too high\n",
      "Too high\n",
      "Well done, you took 6 attempts\n"
     ]
    }
   ],
   "source": [
    "'''\n",
    "5 – Create a variable called compnum and set the value to 50. Ask the user to enter a number. While \n",
    "their guess is not the same as the compnum value, tell them if their guess is too high or too low and \n",
    "ask them to have another guess. If they enter the same value as compnum, display the message \n",
    "“Well done, you took [count] attempts”.\n",
    "'''\n",
    "#I wont write this is the first attempt ever!\n",
    "compnum=50\n",
    "count=1\n",
    "guess=int(input(\"Enter a number\"))\n",
    "while(guess!=compnum):\n",
    "    count+=1\n",
    "    if guess>compnum:\n",
    "        print(\"Too high\")\n",
    "    elif guess<compnum:\n",
    "        print(\"Too low\")\n",
    "    guess=int(input(\"Enter a number\"))\n",
    "\n",
    "\n",
    "print(f\"Well done, you took {count} attempts\")"
   ]
  },
  {
   "cell_type": "code",
   "execution_count": 4,
   "metadata": {},
   "outputs": [
    {
     "data": {
      "text/plain": [
       "'\\n6 – Using the song “10 green bottles”, display the lines “There are [num] green bottles hanging on \\nthe wall, [num] green bottle hanging on the wall, and is 1 green bottle should accidentally fall”. Then \\nask the question “how many green bottles will be hanging on the wall?” If the user answers \\ncorrectly, display the message “There will be [num] green bottles hanging on the wall”. If they \\nanswer incorrectly, display the message “No, try again” until they get it right. When the number of \\ngreen bottles gets down to 0, display the message “There are no more green bottles hanging on the \\nwall”.S\\n'"
      ]
     },
     "execution_count": 4,
     "metadata": {},
     "output_type": "execute_result"
    }
   ],
   "source": [
    "'''\n",
    "6 – Using the song “10 green bottles”, display the lines “There are [num] green bottles hanging on \n",
    "the wall, [num] green bottle hanging on the wall, and is 1 green bottle should accidentally fall”. Then \n",
    "ask the question “how many green bottles will be hanging on the wall?” If the user answers \n",
    "correctly, display the message “There will be [num] green bottles hanging on the wall”. If they \n",
    "answer incorrectly, display the message “No, try again” until they get it right. When the number of \n",
    "green bottles gets down to 0, display the message “There are no more green bottles hanging on the \n",
    "wall”.\n",
    "'''\n",
    "#Let's go!\n",
    "# This is the implementation of the 10 green bottles song\n",
    "\n",
    "num_bottles = 10  # Starting number of bottles\n",
    "\n",
    "while num_bottles > 0:\n",
    "    # Display the current number of bottles\n",
    "    print(f\"There are {num_bottles} green bottles hanging on the wall,\")\n",
    "    print(f\"{num_bottles} green bottles hanging on the wall,\")\n",
    "    print(\"And if 1 green bottle should accidentally fall,\")\n",
    "    \n",
    "    # Ask the user to guess how many bottles will be left\n",
    "    guess = int(input(\"How many green bottles will be hanging on the wall? \"))\n",
    "    \n",
    "    # Check if the guess is correct\n",
    "    if guess == num_bottles - 1:\n",
    "        num_bottles -= 1\n",
    "        print(f\"There will be {num_bottles} green bottles hanging on the wall.\")\n",
    "    else:\n",
    "        print(\"No, try again.\")\n",
    "        \n",
    "# When the number of bottles reaches 0, print the final message\n",
    "print(\"There are no more green bottles hanging on the wall.\")\n"
   ]
  },
  {
   "cell_type": "markdown",
   "metadata": {},
   "source": [
    "<h1 font-style=30px> 3.Functional Exercises </h1>"
   ]
  },
  {
   "cell_type": "code",
   "execution_count": 20,
   "metadata": {},
   "outputs": [
    {
     "name": "stdout",
     "output_type": "stream",
     "text": [
      "1\n",
      "2\n",
      "3\n",
      "4\n",
      "5\n"
     ]
    }
   ],
   "source": [
    "'''\n",
    "7 – Define a function that will ask the user to enter a number and save it as the variable “num”. \n",
    "Define another function that will use “num” and count 1 to that number.\n",
    "'''\n",
    "def save_number():\n",
    "    num = int(input(\"Please enter a number: \"))\n",
    "    return num\n",
    "def count_number(num):\n",
    "    for i in range (1,num+1):\n",
    "        print(i)\n",
    "count_number(5)"
   ]
  },
  {
   "cell_type": "code",
   "execution_count": 21,
   "metadata": {},
   "outputs": [
    {
     "name": "stdout",
     "output_type": "stream",
     "text": [
      "\n",
      "Menu:\n",
      "1. Add a name\n",
      "2. Change a name\n",
      "3. Delete a name\n",
      "4. View all names\n",
      "5. Exit\n",
      "Zhang zhixing has been added.\n",
      "\n",
      "Menu:\n",
      "1. Add a name\n",
      "2. Change a name\n",
      "3. Delete a name\n",
      "4. View all names\n",
      "5. Exit\n",
      "Zhang not found in the list.\n",
      "\n",
      "Menu:\n",
      "1. Add a name\n",
      "2. Change a name\n",
      "3. Delete a name\n",
      "4. View all names\n",
      "5. Exit\n",
      "Zhang zhixing has been deleted.\n",
      "\n",
      "Menu:\n",
      "1. Add a name\n",
      "2. Change a name\n",
      "3. Delete a name\n",
      "4. View all names\n",
      "5. Exit\n",
      "Exiting the program.\n"
     ]
    }
   ],
   "source": [
    "'''\n",
    "8 – Create a programme that will allow the user to easily manage a list of names. You should display \n",
    "a menu that will allow them to add a name to the list, change the name in the list, delete a name \n",
    "from the list from the list or view all the names in the list. There should be a menu option to allow \n",
    "the user to end the programme. If they select an option that is not relevant, then it should display a \n",
    "suitable message. After they have made a selection to either, add a name, change a name delete a \n",
    "name or view all the names, they should see the menu again without having to restart the \n",
    "programme. The programme should be as easy to use as possible.\n",
    "'''\n",
    "def display_menu():\n",
    "    print(\"\\nMenu:\")\n",
    "    print(\"1. Add a name\")\n",
    "    print(\"2. Change a name\")\n",
    "    print(\"3. Delete a name\")\n",
    "    print(\"4. View all names\")\n",
    "    print(\"5. Exit\")\n",
    "\n",
    "def main():\n",
    "    names = []\n",
    "\n",
    "    while True:\n",
    "        display_menu()\n",
    "        choice = input(\"Please select an option (1-5): \")\n",
    "\n",
    "        if choice == '1':\n",
    "            name_to_add = input(\"Enter the name to add: \")\n",
    "            names.append(name_to_add)\n",
    "            print(f\"{name_to_add} has been added.\")\n",
    "        \n",
    "        elif choice == '2':\n",
    "            old_name = input(\"Enter the name to change: \")\n",
    "            if old_name in names:\n",
    "                new_name = input(\"Enter the new name: \")\n",
    "                index = names.index(old_name)\n",
    "                names[index] = new_name\n",
    "                print(f\"{old_name} has been changed to {new_name}.\")\n",
    "            else:\n",
    "                print(f\"{old_name} not found in the list.\")\n",
    "        \n",
    "        elif choice == '3':\n",
    "            name_to_delete = input(\"Enter the name to delete: \")\n",
    "            if name_to_delete in names:\n",
    "                names.remove(name_to_delete)\n",
    "                print(f\"{name_to_delete} has been deleted.\")\n",
    "            else:\n",
    "                print(f\"{name_to_delete} not found in the list.\")\n",
    "        \n",
    "        elif choice == '4':\n",
    "            if names:\n",
    "                print(\"Names in the list:\")\n",
    "                for name in names:\n",
    "                    print(name)\n",
    "            else:\n",
    "                print(\"The list is empty.\")\n",
    "        \n",
    "        elif choice == '5':\n",
    "            print(\"Exiting the program.\")\n",
    "            break\n",
    "        \n",
    "        else:\n",
    "            print(\"Invalid option. Please try again.\")\n",
    "\n",
    "if __name__ == \"__main__\":\n",
    "    main()\n"
   ]
  },
  {
   "cell_type": "markdown",
   "metadata": {},
   "source": [
    "<h1 font-style=30px> 4.Random Exercises  </h1>"
   ]
  },
  {
   "cell_type": "code",
   "execution_count": null,
   "metadata": {},
   "outputs": [],
   "source": [
    "'''\n",
    "9 – Write a programme that displays a random fruit from a list of 5 fruits.\n",
    "'''"
   ]
  },
  {
   "cell_type": "code",
   "execution_count": null,
   "metadata": {},
   "outputs": [],
   "source": [
    "'''\n",
    "10 – Write a programme that randomly chooses either heads or tails (“h” or “t”). The programme \n",
    "asks the user to make a choice. If their choice is the same as the randomly selected value, display the \n",
    "message “You win”, otherwise display “Bad luck”. At the end, tell the user if the computer selected \n",
    "heads or tails.\n",
    "'''"
   ]
  },
  {
   "cell_type": "code",
   "execution_count": null,
   "metadata": {},
   "outputs": [],
   "source": [
    "'''\n",
    "11 - Write a programme that randomly chooses a number between 1 and 5. The programme should \n",
    "ask the user to pick a number. If they guess correctly, display the message “Well done”, otherwise \n",
    "the programme should tell them if they are too high or too low and should ask them to pick a second \n",
    "number. If they guess correctly on their second guess, display the message “Correct”, otherwise \n",
    "display “You lose”.\n",
    "'''"
   ]
  },
  {
   "cell_type": "code",
   "execution_count": null,
   "metadata": {},
   "outputs": [],
   "source": [
    "'''\n",
    "12 – Write a programme that displays five colours and asks the user to pick one. If they pick the \n",
    "same as the programme has chosen, say “Well done”, otherwise display a witty answer which \n",
    "involves the correct colour, e.g. “I bet you are GREEN with envy” or “You are probably feeling BLUE \n",
    "right now”. The programme should ask them to guess again; if the user has still not got it right, it \n",
    "keeps giving them the same clue and it asks the user to enter a colour until they guess it correctly.\n",
    "'''"
   ]
  },
  {
   "cell_type": "markdown",
   "metadata": {},
   "source": [
    "<h1 font-size=30px> 5.Turtle Graphics exercises </h1>"
   ]
  },
  {
   "cell_type": "code",
   "execution_count": 6,
   "metadata": {},
   "outputs": [
    {
     "data": {
      "text/plain": [
       "'\\n13 - Draw a circle.\\n'"
      ]
     },
     "execution_count": 6,
     "metadata": {},
     "output_type": "execute_result"
    }
   ],
   "source": [
    "\"\"\"\n",
    "13 - Draw a circle.\n",
    "\"\"\""
   ]
  },
  {
   "cell_type": "code",
   "execution_count": null,
   "metadata": {},
   "outputs": [],
   "source": [
    "'''\n",
    "14 - Draw an octagon that uses a different colour (randomly selected from a list of six possible \n",
    "colours) for each line.\n",
    "'''"
   ]
  },
  {
   "cell_type": "code",
   "execution_count": null,
   "metadata": {},
   "outputs": [],
   "source": [
    "'''\n",
    "15 - Draw a pattern that will change each time the programme is run. Use random function to pick \n",
    "the number of lines, the length of each line and the angle of each turn\n",
    "'''"
   ]
  },
  {
   "cell_type": "markdown",
   "metadata": {},
   "source": [
    "<h1 font-size=30px> 6.Data Structure-List Exercise </h1>"
   ]
  },
  {
   "cell_type": "code",
   "execution_count": null,
   "metadata": {},
   "outputs": [],
   "source": [
    "'''\n",
    "16 - Create a list of four three-digit numbers. Display the list to the user, showing each item from the \n",
    "list on a separate line. Ask the user to enter a three-digit number. If the number they have typed in \n",
    "matches one in the list, display the position of that number in the list otherwise display the message \n",
    "“That’s not in the list”.\n",
    "'''"
   ]
  },
  {
   "cell_type": "code",
   "execution_count": null,
   "metadata": {},
   "outputs": [],
   "source": [
    "'''\n",
    "17 - Write a programme that asks the user to enter the names of three people they want to invite to \n",
    "a party and store them in a list. After they have entered all three names, ask them if they want to \n",
    "add another. If they do, allow them to add more names until they say “no”. When they say “no”, \n",
    "display how many people they have invited to the party.\n",
    "'''"
   ]
  },
  {
   "cell_type": "markdown",
   "metadata": {},
   "source": [
    "<h1 font-size=30px> 7.Data Structure-Dictionary Exercise </h1>"
   ]
  },
  {
   "cell_type": "code",
   "execution_count": null,
   "metadata": {},
   "outputs": [],
   "source": [
    "'''\n",
    "18 - Create a programme that asks the user to enter four of their favourite foods and store them in a \n",
    "dictionary so that they are associated with keys starting from 1. Display the dictionary in full, \n",
    "showing the key-value pairs. The programme should ask the user which key-value pair they want to \n",
    "get rid of and remove it from the dictionary. Finally, the programme should sort the remaining data \n",
    "and display the dictionary.\n",
    "'''"
   ]
  },
  {
   "cell_type": "markdown",
   "metadata": {},
   "source": [
    "<h1 font-size=30px> 8.Data Structure - Tuple Exercise </h1>"
   ]
  },
  {
   "cell_type": "code",
   "execution_count": null,
   "metadata": {},
   "outputs": [],
   "source": [
    "'''\n",
    "19 - Create a tuple containing the names of five countries and display the whole tuple. Ask the user \n",
    "to enter one of the countries that have been shown to them and then display the index number (i.e. \n",
    "position in the list) of that item in the tuple.\n",
    "Next, the programme should ask the user to enter a number (index) and display the country in that \n",
    "position.\n",
    "'''"
   ]
  },
  {
   "cell_type": "markdown",
   "metadata": {},
   "source": [
    "<h1 font-size=30px> 9.Numeric Arrays </h1>"
   ]
  },
  {
   "cell_type": "code",
   "execution_count": null,
   "metadata": {},
   "outputs": [],
   "source": [
    "'''\n",
    "20 – Write a programme that asks the user for a list of five integers. Store them in an array. Sort the \n",
    "list and displays it in reverse order.\n",
    "'''"
   ]
  },
  {
   "cell_type": "code",
   "execution_count": null,
   "metadata": {},
   "outputs": [],
   "source": [
    "'''\n",
    "22 – Create two arrays (one containing three numbers that the user enters and one containing a set \n",
    "of five random numbers). Join these two arrays together into one large array. Sort this large array \n",
    "and display it so that each number appears on a separate line.\n",
    "'''"
   ]
  },
  {
   "cell_type": "code",
   "execution_count": null,
   "metadata": {},
   "outputs": [],
   "source": [
    "'''\n",
    "23 – Ask the user to enter five numbers. Sort them in order and present them to the user. Ask them \n",
    "to select one of the numbers. Remove it from the original array and save it in a new array.\n",
    "'''"
   ]
  },
  {
   "cell_type": "code",
   "execution_count": null,
   "metadata": {},
   "outputs": [],
   "source": [
    "'''\n",
    "24 – Display and array of five numbers. Ask the user to select one of the numbers. Once they have \n",
    "selected a number, display the position of that number in the array. If they enter something that is \n",
    "not in the array, ask them to try again until they select a relevant number.\n",
    "'''"
   ]
  },
  {
   "cell_type": "code",
   "execution_count": null,
   "metadata": {},
   "outputs": [],
   "source": [
    "'''\n",
    "25 – Create an array of five numbers between 10 and 100 which each have two decimal places. Ask \n",
    "the user to enter a whole number between 2 and 5. If they enter something outside of that range, \n",
    "display a suitable error message and ask them again to try until they enter a valid number. Divide \n",
    "each of the numbers in the array by the number entered and display the answers shown to two \n",
    "decimal places.\n",
    "'''"
   ]
  },
  {
   "cell_type": "markdown",
   "metadata": {},
   "source": [
    "<h1 font-size=30px> 10. 2D Lists and Dictionaries </h1> "
   ]
  },
  {
   "cell_type": "code",
   "execution_count": null,
   "metadata": {},
   "outputs": [],
   "source": [
    "'''\n",
    "26 – Create the following using a simple 2D list and ask the user to select a row and a column and \n",
    "display that value.\n",
    "'''"
   ]
  },
  {
   "cell_type": "code",
   "execution_count": null,
   "metadata": {},
   "outputs": [],
   "source": [
    "'''\n",
    "27 - Using the 2D list in the previous exercise, ask the user which row they would like displayed and \n",
    "display just that row. Ask them to enter a new value and add it to the end of the row and display row \n",
    "again.\n",
    "'''"
   ]
  },
  {
   "cell_type": "code",
   "execution_count": null,
   "metadata": {},
   "outputs": [],
   "source": [
    "'''\n",
    "28 – Change the previous programme to ask the user which row they want displayed. Display that \n",
    "row. Ask the user which column in that row they want displayed and display the value in held in \n",
    "there. Ask the user if they want to change the value and change the data. Finally, display the whole \n",
    "row again.\n",
    "'''"
   ]
  },
  {
   "cell_type": "code",
   "execution_count": null,
   "metadata": {},
   "outputs": [],
   "source": [
    "'''\n",
    "29 – Ask the user to enter the name age and show size for the four people in a list and display the \n",
    "names and ages of all the people in the list but do not show their show size.\n",
    "'''"
   ]
  }
 ],
 "metadata": {
  "kernelspec": {
   "display_name": ".venv",
   "language": "python",
   "name": "python3"
  },
  "language_info": {
   "codemirror_mode": {
    "name": "ipython",
    "version": 3
   },
   "file_extension": ".py",
   "mimetype": "text/x-python",
   "name": "python",
   "nbconvert_exporter": "python",
   "pygments_lexer": "ipython3",
   "version": "3.11.0"
  }
 },
 "nbformat": 4,
 "nbformat_minor": 2
}
